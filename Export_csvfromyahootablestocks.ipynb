{
  "nbformat": 4,
  "nbformat_minor": 0,
  "metadata": {
    "colab": {
      "name": "Export_csvfromyahootablestocks.ipynb",
      "provenance": [],
      "authorship_tag": "ABX9TyP4X0q0aLfgF9GDP7YVRZ6E",
      "include_colab_link": true
    },
    "kernelspec": {
      "name": "python3",
      "display_name": "Python 3"
    },
    "language_info": {
      "name": "python"
    }
  },
  "cells": [
    {
      "cell_type": "markdown",
      "metadata": {
        "id": "view-in-github",
        "colab_type": "text"
      },
      "source": [
        "<a href=\"https://colab.research.google.com/github/fsdalpiaz/Teste/blob/main/Export_csvfromyahootablestocks.ipynb\" target=\"_parent\"><img src=\"https://colab.research.google.com/assets/colab-badge.svg\" alt=\"Open In Colab\"/></a>"
      ]
    },
    {
      "cell_type": "code",
      "metadata": {
        "id": "RxCvpD5JsoYu"
      },
      "source": [
        "import pandas as pd\n",
        "from pandas_datareader import data as web\n",
        "# criar um DataFrame vazio\n",
        "df = pd.DataFrame()\n",
        "# escolher a ação desejada\n",
        "acao = 'ITUB3.SA'\n",
        "\n",
        "# importar dados para o DataFrame\n",
        "df = web.DataReader(acao, data_source='yahoo', start='01-01-2000')\n",
        "\n",
        "# ver as 5 primeiras entradas\n",
        "df.head()\n",
        "\n",
        "# escolher a ação desejada\n",
        "acao = 'ITUB3.SA'\n",
        " \n",
        "# importar dados para o DataFrame\n",
        "df = web.DataReader(acao, data_source='yahoo', start='01-01-2010')"
      ],
      "execution_count": 4,
      "outputs": []
    },
    {
      "cell_type": "code",
      "metadata": {
        "id": "sb1O1_0Xs81Y"
      },
      "source": [
        "df.to_csv(\"itub3sa.csv\", index=False)"
      ],
      "execution_count": 5,
      "outputs": []
    },
    {
      "cell_type": "code",
      "metadata": {
        "id": "voOyOzVItjS8"
      },
      "source": [
        ""
      ],
      "execution_count": null,
      "outputs": []
    }
  ]
}