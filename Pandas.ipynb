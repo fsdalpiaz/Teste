{
  "nbformat": 4,
  "nbformat_minor": 0,
  "metadata": {
    "colab": {
      "name": "Pandas.ipynb",
      "provenance": [],
      "authorship_tag": "ABX9TyO+DqVXpW/BfrJn+w3lZQDz",
      "include_colab_link": true
    },
    "kernelspec": {
      "name": "python3",
      "display_name": "Python 3"
    },
    "language_info": {
      "name": "python"
    }
  },
  "cells": [
    {
      "cell_type": "markdown",
      "metadata": {
        "id": "view-in-github",
        "colab_type": "text"
      },
      "source": [
        "<a href=\"https://colab.research.google.com/github/fsdalpiaz/Teste/blob/main/Pandas.ipynb\" target=\"_parent\"><img src=\"https://colab.research.google.com/assets/colab-badge.svg\" alt=\"Open In Colab\"/></a>"
      ]
    },
    {
      "cell_type": "code",
      "metadata": {
        "id": "cKxAxhK5mkdY"
      },
      "source": [
        "import pandas as pd"
      ],
      "execution_count": 1,
      "outputs": []
    },
    {
      "cell_type": "code",
      "metadata": {
        "id": "I24H012Ymnvh"
      },
      "source": [
        "df = pd.read_csv(\"https://raw.githubusercontent.com/fsdalpiaz/Teste/main/itub3sa.csv\")"
      ],
      "execution_count": 8,
      "outputs": []
    },
    {
      "cell_type": "code",
      "metadata": {
        "colab": {
          "base_uri": "https://localhost:8080/",
          "height": 204
        },
        "id": "7WcsHy5IuWLy",
        "outputId": "77f10b03-1900-4139-8bdc-8cb3910064e9"
      },
      "source": [
        "df.head()"
      ],
      "execution_count": 9,
      "outputs": [
        {
          "output_type": "execute_result",
          "data": {
            "text/html": [
              "<div>\n",
              "<style scoped>\n",
              "    .dataframe tbody tr th:only-of-type {\n",
              "        vertical-align: middle;\n",
              "    }\n",
              "\n",
              "    .dataframe tbody tr th {\n",
              "        vertical-align: top;\n",
              "    }\n",
              "\n",
              "    .dataframe thead th {\n",
              "        text-align: right;\n",
              "    }\n",
              "</style>\n",
              "<table border=\"1\" class=\"dataframe\">\n",
              "  <thead>\n",
              "    <tr style=\"text-align: right;\">\n",
              "      <th></th>\n",
              "      <th>High</th>\n",
              "      <th>Low</th>\n",
              "      <th>Open</th>\n",
              "      <th>Close</th>\n",
              "      <th>Volume</th>\n",
              "      <th>Adj Close</th>\n",
              "    </tr>\n",
              "  </thead>\n",
              "  <tbody>\n",
              "    <tr>\n",
              "      <th>0</th>\n",
              "      <td>14.138378</td>\n",
              "      <td>13.655715</td>\n",
              "      <td>13.655715</td>\n",
              "      <td>14.138378</td>\n",
              "      <td>627000.0</td>\n",
              "      <td>8.568435</td>\n",
              "    </tr>\n",
              "    <tr>\n",
              "      <th>1</th>\n",
              "      <td>14.161145</td>\n",
              "      <td>13.956241</td>\n",
              "      <td>14.115611</td>\n",
              "      <td>14.161145</td>\n",
              "      <td>183158.0</td>\n",
              "      <td>8.582232</td>\n",
              "    </tr>\n",
              "    <tr>\n",
              "      <th>2</th>\n",
              "      <td>14.161145</td>\n",
              "      <td>13.965348</td>\n",
              "      <td>14.161145</td>\n",
              "      <td>14.161145</td>\n",
              "      <td>116395.0</td>\n",
              "      <td>8.582232</td>\n",
              "    </tr>\n",
              "    <tr>\n",
              "      <th>3</th>\n",
              "      <td>14.070077</td>\n",
              "      <td>13.947134</td>\n",
              "      <td>14.056416</td>\n",
              "      <td>14.024542</td>\n",
              "      <td>136820.0</td>\n",
              "      <td>8.499449</td>\n",
              "    </tr>\n",
              "    <tr>\n",
              "      <th>4</th>\n",
              "      <td>14.015436</td>\n",
              "      <td>13.719463</td>\n",
              "      <td>13.974455</td>\n",
              "      <td>13.865173</td>\n",
              "      <td>95971.0</td>\n",
              "      <td>8.402864</td>\n",
              "    </tr>\n",
              "  </tbody>\n",
              "</table>\n",
              "</div>"
            ],
            "text/plain": [
              "        High        Low       Open      Close    Volume  Adj Close\n",
              "0  14.138378  13.655715  13.655715  14.138378  627000.0   8.568435\n",
              "1  14.161145  13.956241  14.115611  14.161145  183158.0   8.582232\n",
              "2  14.161145  13.965348  14.161145  14.161145  116395.0   8.582232\n",
              "3  14.070077  13.947134  14.056416  14.024542  136820.0   8.499449\n",
              "4  14.015436  13.719463  13.974455  13.865173   95971.0   8.402864"
            ]
          },
          "metadata": {
            "tags": []
          },
          "execution_count": 9
        }
      ]
    },
    {
      "cell_type": "code",
      "metadata": {
        "colab": {
          "base_uri": "https://localhost:8080/"
        },
        "id": "A3SgQwVvuZK_",
        "outputId": "bc4240ad-0da0-4a1b-c46b-73c0f6d02e76"
      },
      "source": [
        "df.shape"
      ],
      "execution_count": 10,
      "outputs": [
        {
          "output_type": "execute_result",
          "data": {
            "text/plain": [
              "(2794, 6)"
            ]
          },
          "metadata": {
            "tags": []
          },
          "execution_count": 10
        }
      ]
    },
    {
      "cell_type": "code",
      "metadata": {
        "colab": {
          "base_uri": "https://localhost:8080/"
        },
        "id": "iiXsTOjvua1s",
        "outputId": "880b32b5-36b4-4111-eb36-661ecb0207c9"
      },
      "source": [
        "df[\"Close\"]"
      ],
      "execution_count": 11,
      "outputs": [
        {
          "output_type": "execute_result",
          "data": {
            "text/plain": [
              "0       14.138378\n",
              "1       14.161145\n",
              "2       14.161145\n",
              "3       14.024542\n",
              "4       13.865173\n",
              "          ...    \n",
              "2789    23.980000\n",
              "2790    24.410000\n",
              "2791    24.420000\n",
              "2792    24.670000\n",
              "2793    24.670000\n",
              "Name: Close, Length: 2794, dtype: float64"
            ]
          },
          "metadata": {
            "tags": []
          },
          "execution_count": 11
        }
      ]
    },
    {
      "cell_type": "code",
      "metadata": {
        "colab": {
          "base_uri": "https://localhost:8080/"
        },
        "id": "IcJL4c_XueEw",
        "outputId": "a6d29a3c-d815-466a-96ea-89fa4952ba34"
      },
      "source": [
        "df[\"Close\"].mean()"
      ],
      "execution_count": 12,
      "outputs": [
        {
          "output_type": "execute_result",
          "data": {
            "text/plain": [
              "19.424318598950002"
            ]
          },
          "metadata": {
            "tags": []
          },
          "execution_count": 12
        }
      ]
    },
    {
      "cell_type": "code",
      "metadata": {
        "colab": {
          "base_uri": "https://localhost:8080/"
        },
        "id": "SKY2cJN-u577",
        "outputId": "a4e1c08c-6d66-4061-9fd0-bd127a400608"
      },
      "source": [
        "df[\"Close\"].std()"
      ],
      "execution_count": 14,
      "outputs": [
        {
          "output_type": "execute_result",
          "data": {
            "text/plain": [
              "6.173199072174644"
            ]
          },
          "metadata": {
            "tags": []
          },
          "execution_count": 14
        }
      ]
    },
    {
      "cell_type": "code",
      "metadata": {
        "colab": {
          "base_uri": "https://localhost:8080/"
        },
        "id": "EQ6uzlTTu-0L",
        "outputId": "709c7d10-f9fa-4c23-d1a7-3d9ce4fbdb28"
      },
      "source": [
        "df.info"
      ],
      "execution_count": 15,
      "outputs": [
        {
          "output_type": "execute_result",
          "data": {
            "text/plain": [
              "<bound method DataFrame.info of            High        Low       Open      Close    Volume  Adj Close\n",
              "0     14.138378  13.655715  13.655715  14.138378  627000.0   8.568435\n",
              "1     14.161145  13.956241  14.115611  14.161145  183158.0   8.582232\n",
              "2     14.161145  13.965348  14.161145  14.161145  116395.0   8.582232\n",
              "3     14.070077  13.947134  14.056416  14.024542  136820.0   8.499449\n",
              "4     14.015436  13.719463  13.974455  13.865173   95971.0   8.402864\n",
              "...         ...        ...        ...        ...       ...        ...\n",
              "2789  24.230000  23.920000  24.000000  23.980000  372700.0  23.980000\n",
              "2790  24.410000  24.010000  24.100000  24.410000  481800.0  24.410000\n",
              "2791  24.510000  24.070000  24.410000  24.420000  407700.0  24.420000\n",
              "2792  24.959999  24.230000  24.490000  24.670000  447000.0  24.670000\n",
              "2793   0.000000   0.000000   0.000000  24.670000       0.0  24.670000\n",
              "\n",
              "[2794 rows x 6 columns]>"
            ]
          },
          "metadata": {
            "tags": []
          },
          "execution_count": 15
        }
      ]
    },
    {
      "cell_type": "code",
      "metadata": {
        "colab": {
          "base_uri": "https://localhost:8080/"
        },
        "id": "wQ01x4NHvqxm",
        "outputId": "a27af6a0-0627-4f15-ac08-a8da403cb741"
      },
      "source": [
        "df.Volume.mean()"
      ],
      "execution_count": 16,
      "outputs": [
        {
          "output_type": "execute_result",
          "data": {
            "text/plain": [
              "451991.5948460988"
            ]
          },
          "metadata": {
            "tags": []
          },
          "execution_count": 16
        }
      ]
    },
    {
      "cell_type": "code",
      "metadata": {
        "colab": {
          "base_uri": "https://localhost:8080/"
        },
        "id": "LWL5XW7jv6T-",
        "outputId": "ef1ee1d5-99e6-4562-f246-91cc321d9d96"
      },
      "source": [
        "df.Open[1000:2000].mean()"
      ],
      "execution_count": 17,
      "outputs": [
        {
          "output_type": "execute_result",
          "data": {
            "text/plain": [
              "18.788948296546938"
            ]
          },
          "metadata": {
            "tags": []
          },
          "execution_count": 17
        }
      ]
    },
    {
      "cell_type": "code",
      "metadata": {
        "colab": {
          "base_uri": "https://localhost:8080/",
          "height": 297
        },
        "id": "D_puR8OewGzb",
        "outputId": "7395bb06-f27d-4dae-fbb5-17c47de32fc9"
      },
      "source": [
        "df.describe()"
      ],
      "execution_count": 18,
      "outputs": [
        {
          "output_type": "execute_result",
          "data": {
            "text/html": [
              "<div>\n",
              "<style scoped>\n",
              "    .dataframe tbody tr th:only-of-type {\n",
              "        vertical-align: middle;\n",
              "    }\n",
              "\n",
              "    .dataframe tbody tr th {\n",
              "        vertical-align: top;\n",
              "    }\n",
              "\n",
              "    .dataframe thead th {\n",
              "        text-align: right;\n",
              "    }\n",
              "</style>\n",
              "<table border=\"1\" class=\"dataframe\">\n",
              "  <thead>\n",
              "    <tr style=\"text-align: right;\">\n",
              "      <th></th>\n",
              "      <th>High</th>\n",
              "      <th>Low</th>\n",
              "      <th>Open</th>\n",
              "      <th>Close</th>\n",
              "      <th>Volume</th>\n",
              "      <th>Adj Close</th>\n",
              "    </tr>\n",
              "  </thead>\n",
              "  <tbody>\n",
              "    <tr>\n",
              "      <th>count</th>\n",
              "      <td>2794.000000</td>\n",
              "      <td>2794.000000</td>\n",
              "      <td>2794.000000</td>\n",
              "      <td>2794.000000</td>\n",
              "      <td>2.794000e+03</td>\n",
              "      <td>2794.000000</td>\n",
              "    </tr>\n",
              "    <tr>\n",
              "      <th>mean</th>\n",
              "      <td>19.643310</td>\n",
              "      <td>19.167054</td>\n",
              "      <td>19.422685</td>\n",
              "      <td>19.424319</td>\n",
              "      <td>4.519916e+05</td>\n",
              "      <td>15.754039</td>\n",
              "    </tr>\n",
              "    <tr>\n",
              "      <th>std</th>\n",
              "      <td>6.249605</td>\n",
              "      <td>6.121568</td>\n",
              "      <td>6.201860</td>\n",
              "      <td>6.173199</td>\n",
              "      <td>1.547841e+06</td>\n",
              "      <td>7.308223</td>\n",
              "    </tr>\n",
              "    <tr>\n",
              "      <th>min</th>\n",
              "      <td>0.000000</td>\n",
              "      <td>0.000000</td>\n",
              "      <td>0.000000</td>\n",
              "      <td>9.931015</td>\n",
              "      <td>0.000000e+00</td>\n",
              "      <td>6.280931</td>\n",
              "    </tr>\n",
              "    <tr>\n",
              "      <th>25%</th>\n",
              "      <td>14.252214</td>\n",
              "      <td>13.952826</td>\n",
              "      <td>14.115611</td>\n",
              "      <td>14.138378</td>\n",
              "      <td>1.424155e+05</td>\n",
              "      <td>9.222723</td>\n",
              "    </tr>\n",
              "    <tr>\n",
              "      <th>50%</th>\n",
              "      <td>17.528975</td>\n",
              "      <td>17.088154</td>\n",
              "      <td>17.333332</td>\n",
              "      <td>17.355371</td>\n",
              "      <td>2.679150e+05</td>\n",
              "      <td>12.799199</td>\n",
              "    </tr>\n",
              "    <tr>\n",
              "      <th>75%</th>\n",
              "      <td>24.947501</td>\n",
              "      <td>24.400000</td>\n",
              "      <td>24.664999</td>\n",
              "      <td>24.666666</td>\n",
              "      <td>4.942688e+05</td>\n",
              "      <td>22.231489</td>\n",
              "    </tr>\n",
              "    <tr>\n",
              "      <th>max</th>\n",
              "      <td>33.470001</td>\n",
              "      <td>32.560001</td>\n",
              "      <td>32.900002</td>\n",
              "      <td>33.430000</td>\n",
              "      <td>7.128990e+07</td>\n",
              "      <td>31.322224</td>\n",
              "    </tr>\n",
              "  </tbody>\n",
              "</table>\n",
              "</div>"
            ],
            "text/plain": [
              "              High          Low  ...        Volume    Adj Close\n",
              "count  2794.000000  2794.000000  ...  2.794000e+03  2794.000000\n",
              "mean     19.643310    19.167054  ...  4.519916e+05    15.754039\n",
              "std       6.249605     6.121568  ...  1.547841e+06     7.308223\n",
              "min       0.000000     0.000000  ...  0.000000e+00     6.280931\n",
              "25%      14.252214    13.952826  ...  1.424155e+05     9.222723\n",
              "50%      17.528975    17.088154  ...  2.679150e+05    12.799199\n",
              "75%      24.947501    24.400000  ...  4.942688e+05    22.231489\n",
              "max      33.470001    32.560001  ...  7.128990e+07    31.322224\n",
              "\n",
              "[8 rows x 6 columns]"
            ]
          },
          "metadata": {
            "tags": []
          },
          "execution_count": 18
        }
      ]
    },
    {
      "cell_type": "code",
      "metadata": {
        "id": "WtaAGdfXwJlT"
      },
      "source": [
        ""
      ],
      "execution_count": null,
      "outputs": []
    }
  ]
}